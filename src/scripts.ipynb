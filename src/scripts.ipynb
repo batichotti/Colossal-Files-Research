{
  "cells": [
    {
      "cell_type": "markdown",
      "metadata": {},
      "source": [
        "# Titan Files - Pillars\n",
        "\n",
        "## Languages\n",
        "\n",
        "## Projects\n",
        "\n",
        "## CLoC\n",
        "\n",
        "### Script 00 (Year Zero) - GIT Clone BOT\n",
        "\n",
        "This script is responsible for the local clone of the repositories that will be analyzed by CLoC, for this we use the previous list of projects\n"
      ],
      "id": "e06ac6ce"
    },
    {
      "cell_type": "code",
      "metadata": {},
      "source": [
        "import git\n",
        "from input import Repos as repositories\n",
        "\n",
        "for repository in repositories.list:\n",
        "    local_repo_directory = f\"./src/00/output/{repository.split('/')[-2]}_{repository.split('/')[-1]}\"\n",
        "    print(f\"{repository.split('/')[-2]}/{repository.split('/')[-1]}\", end=\"\")\n",
        "\n",
        "    try:\n",
        "        try:\n",
        "            repo = git.Repo.clone_from(repository, local_repo_directory, branch='main')\n",
        "            print(\"- Main branch\")\n",
        "        except git.exc.GitCommandError:\n",
        "            try:\n",
        "                repo = git.Repo.clone_from(repository, local_repo_directory, branch='master')\n",
        "                print(\"- Master branch\")\n",
        "            except git.exc.GitCommandError:\n",
        "                print(\"- No Main/Master branch found\")\n",
        "\n",
        "    except git.exc.GitCommandError as e:\n",
        "        print()\n",
        "        if \"already exists and is not an empty directory\" in e.stderr:\n",
        "            print(\"Destination path already exists and is not an empty directory.\")\n",
        "        else:\n",
        "            print(\"An error occurred:\", e)\n",
        "\n",
        "print('DONE!')"
      ],
      "id": "4421ef25",
      "execution_count": null,
      "outputs": []
    }
  ],
  "metadata": {
    "kernelspec": {
      "display_name": "Python 3",
      "language": "python",
      "name": "python3"
    }
  },
  "nbformat": 4,
  "nbformat_minor": 5
}