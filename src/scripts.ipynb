{
  "cells": [
    {
      "cell_type": "markdown",
      "metadata": {},
      "source": [
        "# Titan Files - Pillars\n",
        "\n",
        "## Languages\n",
        "\n",
        "## Projects\n",
        "\n",
        "## CLoC\n",
        "\n",
        "### Setup\n",
        "\n",
        "### Script 00 (**Replicante***) - GIT Clone BOT\n",
        "\n",
        "This script is responsible for the local clone of the repositories (main/marster brach) that will be analyzed by CLoC, for this we use the previous projects list.\n",
        "\n",
        "*IMPORT*\n"
      ],
      "id": "df8d9b01"
    },
    {
      "cell_type": "code",
      "metadata": {},
      "source": [
        "#| echo: true\n",
        "\n",
        "import git\n",
        "import _00.input.Repos as repositories"
      ],
      "id": "722c4b86",
      "execution_count": null,
      "outputs": []
    },
    {
      "cell_type": "markdown",
      "metadata": {},
      "source": [
        "*CODE*\n"
      ],
      "id": "6f13b776"
    },
    {
      "cell_type": "code",
      "metadata": {},
      "source": [
        "for repository in repositories.list:\n",
        "    local_repo_directory = f\"./_00/output/{repository.split('/')[-2]}_{repository.split('/')[-1]}\"\n",
        "    print(f\"{repository.split('/')[-2]}/{repository.split('/')[-1]}\", end=\"\")\n",
        "\n",
        "    try:\n",
        "        try:\n",
        "            repo = git.Repo.clone_from(repository, local_repo_directory, branch='main')\n",
        "            print(\" -> Main branch\")\n",
        "        except git.exc.GitCommandError:\n",
        "            try:\n",
        "                repo = git.Repo.clone_from(repository, local_repo_directory, branch='master')\n",
        "                print(\" -> Master branch\")\n",
        "            except git.exc.GitCommandError:\n",
        "                print(\" -> \\033[31mNo Main/Master branches found\\033[m\")\n",
        "\n",
        "    except git.exc.GitCommandError as e:\n",
        "        print()\n",
        "        if \"already exists and is not an empty directory\" in e.stderr:\n",
        "            print(\"\\033[31mDestination path already exists and is not an empty directory\\033[m\")\n",
        "        else:\n",
        "            print(f\"\\033[31mAn error occurred: {e}\\033[m\")\n",
        "\n",
        "print('DONE!')"
      ],
      "id": "032cf6f5",
      "execution_count": null,
      "outputs": []
    },
    {
      "cell_type": "markdown",
      "metadata": {},
      "source": [
        "### Script 01 (**The Imitation Game**) - CLoC BOT\n",
        "\n",
        "This script is responsible for automating the CLoC analysis for all clones made before.\n",
        "\n",
        "*IMPORT*\n"
      ],
      "id": "bb30d1f7"
    },
    {
      "cell_type": "code",
      "metadata": {},
      "source": [
        "#| echo: true\n",
        "\n",
        "from os import path, listdir, system"
      ],
      "id": "1dd30149",
      "execution_count": null,
      "outputs": []
    },
    {
      "cell_type": "markdown",
      "metadata": {},
      "source": [
        "*CODE*\n"
      ],
      "id": "9c317e98"
    },
    {
      "cell_type": "code",
      "metadata": {},
      "source": [
        "clones_folder = './src/_00/output'\n",
        "output_folder = './src/_01/output'\n",
        "cloc_path = path.abspath(\"./src/_01/input/cloc.exe\")  # CLoC.exe path\n",
        "\n",
        "#running CLoC for each cloned repositories\n",
        "for repo in listdir(clones_folder):\n",
        "    repo_name = path.join(repo)\n",
        "    if path.exists(f'{output_folder}/{repo_name}.csv'):\n",
        "        print(f\"\\033[31mDestination path (\\033[35m{repo_name}.csv\\033[31m) already exists and is not an empty directoryn\\033[m\")\n",
        "    else:\n",
        "        system(f'{cloc_path} --by-file-by-lang --csv --out {output_folder}/{repo_name}.csv {clones_folder}/{repo_name}')\n",
        "        print(f'\\n File \\033[35m{repo_name}.csv\\033[m was created successfully \\n')"
      ],
      "id": "3a0ee680",
      "execution_count": null,
      "outputs": []
    }
  ],
  "metadata": {
    "kernelspec": {
      "name": "python3",
      "language": "python",
      "display_name": "Python 3 (ipykernel)"
    }
  },
  "nbformat": 4,
  "nbformat_minor": 5
}